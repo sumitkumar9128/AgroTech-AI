{
  "cells": [
    {
      "cell_type": "code",
      "execution_count": 26,
      "metadata": {
        "id": "tJF--uu4wTnu"
      },
      "outputs": [],
      "source": [
        "import pandas as pd\n",
        "from sklearn.model_selection import train_test_split\n",
        "from sklearn.preprocessing import LabelEncoder\n",
        "from sklearn.ensemble import RandomForestClassifier\n",
        "from sklearn.metrics import accuracy_score, classification_report, confusion_matrix\n",
        "import joblib"
      ]
    },
    {
      "cell_type": "code",
      "execution_count": 27,
      "metadata": {
        "colab": {
          "base_uri": "https://localhost:8080/"
        },
        "id": "ctMBiVv7Ipl4",
        "outputId": "f02263c5-9d57-4e13-a709-f02bb6e9a298"
      },
      "outputs": [
        {
          "name": "stdout",
          "output_type": "stream",
          "text": [
            "  Previous Crop Soil Type  Moisture Level  Nitrogen (N)  Phosphorus (P)  \\\n",
            "0       Tobacco    Clayey              28           310             101   \n",
            "1          Rice    Saline              35           221              63   \n",
            "2        Barley     Sandy              26           259              60   \n",
            "3     Groundnut    Clayey              28           140              34   \n",
            "4       Millets     Sandy              24           379             108   \n",
            "\n",
            "   Potassium (K) Recommended Crop  \n",
            "0            354          Millets  \n",
            "1            680          Sorghum  \n",
            "2            710          Millets  \n",
            "3            414          Millets  \n",
            "4            382          Millets  \n"
          ]
        }
      ],
      "source": [
        "# Load the dataset\n",
        "data = pd.read_csv('crop_recommendation_dataset_100000.csv')\n",
        "\n",
        "# Display the first few rows of the dataset\n",
        "print(data.head())"
      ]
    },
    {
      "cell_type": "code",
      "execution_count": 28,
      "metadata": {
        "colab": {
          "base_uri": "https://localhost:8080/"
        },
        "id": "4xB_HUdTIs3a",
        "outputId": "42b9455a-9cf1-4e14-a6df-32079862dab9"
      },
      "outputs": [
        {
          "name": "stdout",
          "output_type": "stream",
          "text": [
            "Unmapped crops found: {'Soybean'}\n"
          ]
        }
      ],
      "source": [
        "# Create a consistent mapping for crops\n",
        "crop_mapping = {\n",
        "    'Wheat': 1,\n",
        "    'Rice': 2,\n",
        "    'Millets': 3,\n",
        "    'Cotton': 4,\n",
        "    'Groundnut': 5,\n",
        "    'Maize': 6,\n",
        "    'Sorghum': 7,\n",
        "    'Barley': 8\n",
        "}\n",
        "\n",
        "# Check for unmapped crops\n",
        "unmapped_crops = set(data['Recommended Crop']) - set(crop_mapping.keys())\n",
        "if unmapped_crops:\n",
        "    print(\"Unmapped crops found:\", unmapped_crops)\n",
        "\n",
        "# Map the recommended crops to integers\n",
        "data['Recommended Crop'] = data['Recommended Crop'].map(crop_mapping)\n",
        "\n",
        "# Drop rows with NaN values in 'Recommended Crop'\n",
        "data = data.dropna(subset=['Recommended Crop'])\n",
        "\n",
        "# Encoding categorical variables manually\n",
        "previous_crop_mapping = {\n",
        "    'Groundnut': 1,\n",
        "    'Millets': 2,\n",
        "    'Wheat': 3,\n",
        "    'Maize': 4,\n",
        "    'Cotton': 5,\n",
        "    'Sorghum': 6,\n",
        "    'Barley': 7\n",
        "}\n",
        "\n",
        "soil_type_mapping = {\n",
        "    'Loamy': 1,\n",
        "    'Clayey': 2,\n",
        "    'Sandy': 3,\n",
        "    'Saline': 4,\n",
        "}"
      ]
    },
    {
      "cell_type": "code",
      "execution_count": 29,
      "metadata": {
        "id": "k-GFP7kG67Vw"
      },
      "outputs": [],
      "source": [
        "data['Previous Crop'] = data['Previous Crop'].map(previous_crop_mapping)\n",
        "data['Soil Type'] = data['Soil Type'].map(soil_type_mapping)\n",
        "\n",
        "# Drop rows with NaN values after mapping\n",
        "data = data.dropna()"
      ]
    },
    {
      "cell_type": "code",
      "execution_count": 30,
      "metadata": {
        "id": "M0VKcVof9zGY"
      },
      "outputs": [],
      "source": [
        "# Define features and target variable\n",
        "X = data.drop('Recommended Crop', axis=1)\n",
        "y = data['Recommended Crop']\n",
        "\n",
        "# Split the dataset into training and testing sets\n",
        "X_train, X_test, y_train, y_test = train_test_split(X, y, test_size=0.2, random_state=42)\n",
        "\n",
        "# Initialize and train the model\n",
        "model = RandomForestClassifier(n_estimators=100, random_state=42)\n",
        "model.fit(X_train, y_train)\n",
        "\n",
        "# Make predictions\n",
        "y_pred = model.predict(X_test)"
      ]
    },
    {
      "cell_type": "code",
      "execution_count": 31,
      "metadata": {
        "colab": {
          "base_uri": "https://localhost:8080/"
        },
        "id": "Zixz_5hqI2h0",
        "outputId": "378a2450-8136-473a-92b2-19113dd5fe8e"
      },
      "outputs": [
        {
          "name": "stdout",
          "output_type": "stream",
          "text": [
            "Accuracy: 100.00%\n",
            "Confusion Matrix:\n",
            "[[ 832    0    0]\n",
            " [   0 7910    0]\n",
            " [   0    0 2025]]\n",
            "Classification Report:\n",
            "              precision    recall  f1-score   support\n",
            "\n",
            "         2.0       1.00      1.00      1.00       832\n",
            "         3.0       1.00      1.00      1.00      7910\n",
            "         4.0       1.00      1.00      1.00      2025\n",
            "\n",
            "    accuracy                           1.00     10767\n",
            "   macro avg       1.00      1.00      1.00     10767\n",
            "weighted avg       1.00      1.00      1.00     10767\n",
            "\n"
          ]
        },
        {
          "data": {
            "text/plain": [
              "['crop_recommendation_model.pkl']"
            ]
          },
          "execution_count": 31,
          "metadata": {},
          "output_type": "execute_result"
        }
      ],
      "source": [
        "# Evaluate the model\n",
        "accuracy = accuracy_score(y_test, y_pred)\n",
        "confusion = confusion_matrix(y_test, y_pred)\n",
        "report = classification_report(y_test, y_pred)\n",
        "\n",
        "print(f\"Accuracy: {accuracy * 100:.2f}%\")\n",
        "print(\"Confusion Matrix:\")\n",
        "print(confusion)\n",
        "print(\"Classification Report:\")\n",
        "print(report)\n",
        "\n",
        "# Save the model and mappings for future use\n",
        "joblib.dump(model, 'crop_recommendation_model.pkl')"
      ]
    }
  ],
  "metadata": {
    "colab": {
      "provenance": []
    },
    "kernelspec": {
      "display_name": "Python 3",
      "name": "python3"
    },
    "language_info": {
      "name": "python"
    }
  },
  "nbformat": 4,
  "nbformat_minor": 0
}
